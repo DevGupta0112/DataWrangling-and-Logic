{
 "cells": [
  {
   "cell_type": "markdown",
   "metadata": {},
   "source": [
    "177. Nth Highest Salary\n",
    "Solved\n",
    "Medium\n",
    "Topics\n",
    "Companies\n",
    "SQL Schema\n",
    "Pandas Schema\n",
    "Table: Employee\n",
    "\n",
    "+-------------+------+\n",
    "| Column Name | Type |\n",
    "+-------------+------+\n",
    "| id          | int  |\n",
    "| salary      | int  |\n",
    "+-------------+------+\n",
    "id is the primary key (column with unique values) for this table.\n",
    "Each row of this table contains information about the salary of an employee.\n",
    " \n",
    "\n",
    "Write a solution to find the nth highest salary from the Employee table. If there is no nth highest salary, return null.\n",
    "\n",
    "The result format is in the following example.\n",
    "\n",
    " \n",
    "\n",
    "Example 1:\n",
    "\n",
    "Input: \n",
    "Employee table:\n",
    "+----+--------+\n",
    "| id | salary |\n",
    "+----+--------+\n",
    "| 1  | 100    |\n",
    "| 2  | 200    |\n",
    "| 3  | 300    |\n",
    "+----+--------+\n",
    "n = 2\n",
    "Output: \n",
    "+------------------------+\n",
    "| getNthHighestSalary(2) |\n",
    "+------------------------+\n",
    "| 200                    |\n",
    "+------------------------+\n",
    "Example 2:\n",
    "\n",
    "Input: \n",
    "Employee table:\n",
    "+----+--------+\n",
    "| id | salary |\n",
    "+----+--------+\n",
    "| 1  | 100    |\n",
    "+----+--------+\n",
    "n = 2\n",
    "Output: \n",
    "+------------------------+\n",
    "| getNthHighestSalary(2) |\n",
    "+------------------------+\n",
    "| null                   |\n",
    "+------------------------+"
   ]
  },
  {
   "cell_type": "code",
   "execution_count": null,
   "metadata": {
    "vscode": {
     "languageId": "plaintext"
    }
   },
   "outputs": [],
   "source": [
    "import pandas as pd\n",
    "\n",
    "def nth_highest_salary(employee: pd.DataFrame, N: int) -> pd.DataFrame:\n",
    "     sorted_sal = employee['salary'].drop_duplicates().sort_values(ascending = False)\n",
    "     if N > len(sorted_sal) or N<1:\n",
    "        return pd.DataFrame({f'getNthHighestSalary({N})' : [None]})\n",
    "     nth_highest = sorted_sal.iloc[N -1]\n",
    "     return pd.DataFrame({f'getNthHighestSalary({N})' : [nth_highest]})    "
   ]
  }
 ],
 "metadata": {
  "language_info": {
   "name": "python"
  }
 },
 "nbformat": 4,
 "nbformat_minor": 2
}
