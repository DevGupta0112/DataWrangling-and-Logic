{
 "cells": [
  {
   "cell_type": "markdown",
   "metadata": {},
   "source": [
    "1050. Actors and Directors Who Cooperated At Least Three Times\n",
    "\n",
    "Table: ActorDirector\n",
    "\n",
    "+-------------+---------+\n",
    "| Column Name | Type    |\n",
    "+-------------+---------+\n",
    "| actor_id    | int     |\n",
    "| director_id | int     |\n",
    "| timestamp   | int     |\n",
    "+-------------+---------+\n",
    "timestamp is the primary key (column with unique values) for this table.\n",
    " \n",
    "\n",
    "Write a solution to find all the pairs (actor_id, director_id) where the actor has cooperated with the director at least three times.\n",
    "\n",
    "Return the result table in any order.\n",
    "\n",
    "The result format is in the following example.\n",
    "\n",
    " \n",
    "\n",
    "Example 1:\n",
    "\n",
    "Input: \n",
    "ActorDirector table:\n",
    "+-------------+-------------+-------------+\n",
    "| actor_id    | director_id | timestamp   |\n",
    "+-------------+-------------+-------------+\n",
    "| 1           | 1           | 0           |\n",
    "| 1           | 1           | 1           |\n",
    "| 1           | 1           | 2           |\n",
    "| 1           | 2           | 3           |\n",
    "| 1           | 2           | 4           |\n",
    "| 2           | 1           | 5           |\n",
    "| 2           | 1           | 6           |\n",
    "+-------------+-------------+-------------+\n",
    "Output: \n",
    "+-------------+-------------+\n",
    "| actor_id    | director_id |\n",
    "+-------------+-------------+\n",
    "| 1           | 1           |\n",
    "+-------------+-------------+\n",
    "Explanation: The only pair is (1, 1) where they cooperated exactly 3 times."
   ]
  },
  {
   "cell_type": "code",
   "execution_count": null,
   "metadata": {
    "vscode": {
     "languageId": "plaintext"
    }
   },
   "outputs": [],
   "source": [
    "import pandas as pd\n",
    "\n",
    "def actors_and_directors(actor_director: pd.DataFrame) -> pd.DataFrame:\n",
    "    grouped_data = actor_director.groupby(\n",
    "        ['actor_id','director_id'],\n",
    "        ).agg(\n",
    "            number=('director_id','count'),\n",
    "        ).reset_index()\n",
    "    result = grouped_data[grouped_data['number']>=3][['actor_id','director_id']]\n",
    "    return result"
   ]
  }
 ],
 "metadata": {
  "language_info": {
   "name": "python"
  }
 },
 "nbformat": 4,
 "nbformat_minor": 2
}
