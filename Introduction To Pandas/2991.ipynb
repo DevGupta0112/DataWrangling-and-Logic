{
 "cells": [
  {
   "cell_type": "markdown",
   "metadata": {},
   "source": [
    "2891. Method Chaining\n",
    "\n",
    "DataFrame animals\n",
    "+-------------+--------+\n",
    "| Column Name | Type   |\n",
    "+-------------+--------+\n",
    "| name        | object |\n",
    "| species     | object |\n",
    "| age         | int    |\n",
    "| weight      | int    |\n",
    "+-------------+--------+\n",
    "Write a solution to list the names of animals that weigh strictly more than 100 kilograms.\n",
    "\n",
    "Return the animals sorted by weight in descending order.\n",
    "\n",
    "The result format is in the following example.\n",
    "\n",
    " \n",
    "\n",
    "Example 1:\n",
    "\n",
    "Input: \n",
    "DataFrame animals:\n",
    "+----------+---------+-----+--------+\n",
    "| name     | species | age | weight |\n",
    "+----------+---------+-----+--------+\n",
    "| Tatiana  | Snake   | 98  | 464    |\n",
    "| Khaled   | Giraffe | 50  | 41     |\n",
    "| Alex     | Leopard | 6   | 328    |\n",
    "| Jonathan | Monkey  | 45  | 463    |\n",
    "| Stefan   | Bear    | 100 | 50     |\n",
    "| Tommy    | Panda   | 26  | 349    |\n",
    "+----------+---------+-----+--------+\n",
    "Output: \n",
    "+----------+\n",
    "| name     |\n",
    "+----------+\n",
    "| Tatiana  |\n",
    "| Jonathan |\n",
    "| Tommy    |\n",
    "| Alex     |\n",
    "+----------+\n",
    "Explanation: \n",
    "All animals weighing more than 100 should be included in the results table.\n",
    "Tatiana's weight is 464, Jonathan's weight is 463, Tommy's weight is 349, and Alex's weight is 328.\n",
    "The results should be sorted in descending order of weight.\n",
    " "
   ]
  },
  {
   "cell_type": "code",
   "execution_count": null,
   "metadata": {
    "vscode": {
     "languageId": "plaintext"
    }
   },
   "outputs": [],
   "source": [
    "import pandas as pd\n",
    "\n",
    "def findHeavyAnimals(animals: pd.DataFrame) -> pd.DataFrame:\n",
    "    filtered_a = animals[animals['weight']>100]\n",
    "\n",
    "    df_sort = filtered_a.sort_values(by= 'weight',ascending=False)\n",
    "    names = df_sort[['name']]\n",
    "    return names"
   ]
  }
 ],
 "metadata": {
  "language_info": {
   "name": "python"
  }
 },
 "nbformat": 4,
 "nbformat_minor": 2
}
