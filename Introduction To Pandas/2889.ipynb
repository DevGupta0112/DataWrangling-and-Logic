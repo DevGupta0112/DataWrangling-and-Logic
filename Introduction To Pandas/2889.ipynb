{
 "cells": [
  {
   "cell_type": "markdown",
   "metadata": {},
   "source": [
    "2889. Reshape Data: Pivot\n",
    "\n",
    "DataFrame weather\n",
    "+-------------+--------+\n",
    "| Column Name | Type   |\n",
    "+-------------+--------+\n",
    "| city        | object |\n",
    "| month       | object |\n",
    "| temperature | int    |\n",
    "+-------------+--------+\n",
    "Write a solution to pivot the data so that each row represents temperatures for a specific month, and each city is a separate column.\n",
    "\n",
    "The result format is in the following example.\n",
    "\n",
    " \n",
    "\n",
    "Example 1:\n",
    "Input:\n",
    "+--------------+----------+-------------+\n",
    "| city         | month    | temperature |\n",
    "+--------------+----------+-------------+\n",
    "| Jacksonville | January  | 13          |\n",
    "| Jacksonville | February | 23          |\n",
    "| Jacksonville | March    | 38          |\n",
    "| Jacksonville | April    | 5           |\n",
    "| Jacksonville | May      | 34          |\n",
    "| ElPaso       | January  | 20          |\n",
    "| ElPaso       | February | 6           |\n",
    "| ElPaso       | March    | 26          |\n",
    "| ElPaso       | April    | 2           |\n",
    "| ElPaso       | May      | 43          |\n",
    "+--------------+----------+-------------+\n",
    "Output:\n",
    "+----------+--------+--------------+\n",
    "| month    | ElPaso | Jacksonville |\n",
    "+----------+--------+--------------+\n",
    "| April    | 2      | 5            |\n",
    "| February | 6      | 23           |\n",
    "| January  | 20     | 13           |\n",
    "| March    | 26     | 38           |\n",
    "| May      | 43     | 34           |\n",
    "+----------+--------+--------------+\n",
    "Explanation:\n",
    "The table is pivoted, each column represents a city, and each row represents a specific month."
   ]
  }
 ],
 "metadata": {
  "language_info": {
   "name": "python"
  }
 },
 "nbformat": 4,
 "nbformat_minor": 2
}
